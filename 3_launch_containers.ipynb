{
 "cells": [
  {
   "cell_type": "markdown",
   "metadata": {},
   "source": [
    "## Launch containers\n",
    "\n",
    "Inside the SSH session, bring up the Flask, FastAPI, LabelStudio, Scheduler & MinIO services:\n",
    "\n",
    "``` bash\n",
    "# runs on node-eval-loop\n",
    "docker compose -f eval-loop-chi/docker/docker-compose-feedback.yaml up -d\n",
    "```\n",
    "\n",
    "``` bash\n",
    "# Wait 60 seconds for system to get ready\n",
    "sleep 60\n",
    "```\n",
    "\n",
    "``` bash\n",
    "docker logs jupyter\n",
    "```\n",
    "\n",
    "and look for a line like\n",
    "\n",
    "    http://127.0.0.1:8888/lab?token=XXXXXXXXXXXXXXXXXXXXXXXXXXXXXXXXXXXXXXXXXXXXXXXX\n",
    "\n",
    "Paste this into a browser tab, but in place of 127.0.0.1, substitute the floating IP assigned to your instance, to open the Jupyter notebook interface that is running on your compute instance.\n",
    "\n",
    "Then, in the file browser on the left side, open the “work” directory and then click on the 4_close_loop.ipynb notebook to continue."
   ]
  }
 ],
 "nbformat": 4,
 "nbformat_minor": 4,
 "metadata": {
  "kernelspec": {
   "name": "python3",
   "display_name": "Python 3 (ipykernel)",
   "language": "python"
  },
  "language_info": {
   "name": "python",
   "codemirror_mode": {
    "name": "ipython",
    "version": "3"
   },
   "file_extension": ".py",
   "mimetype": "text/x-python"
  }
 }
}
