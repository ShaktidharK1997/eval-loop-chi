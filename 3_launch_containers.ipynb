{
 "cells": [
  {
   "cell_type": "markdown",
   "metadata": {},
   "source": [
    "## Launch containers\n",
    "\n",
    "Inside the SSH session, bring up the Flask, FastAPI, LabelStudio, Scheduler & MinIO services:\n",
    "\n",
    "``` bash\n",
    "# runs on node-eval-loop\n",
    "docker compose -f eval-loop-chi/docker/docker-compose-feedback.yaml up -d\n",
    "```\n",
    "\n",
    "``` bash\n",
    "# Wait 30 seconds for system to get ready\n",
    "sleep 30\n",
    "```"
   ]
  }
 ],
 "nbformat": 4,
 "nbformat_minor": 4,
 "metadata": {
  "kernelspec": {
   "name": "python3",
   "display_name": "Python 3 (ipykernel)",
   "language": "python"
  },
  "language_info": {
   "name": "python",
   "codemirror_mode": {
    "name": "ipython",
    "version": "3"
   },
   "file_extension": ".py",
   "mimetype": "text/x-python"
  }
 }
}
